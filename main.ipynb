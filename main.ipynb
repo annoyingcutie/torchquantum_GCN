{
 "cells": [
  {
   "cell_type": "code",
   "execution_count": 46,
   "metadata": {},
   "outputs": [],
   "source": [
    "from torch_geometric.datasets import Planetoid\n",
    "\n",
    "import numpy as np\n",
    "import random\n",
    "from random import shuffle\n",
    "import torch.nn as nn\n",
    "import torch.nn.functional as F\n",
    "import math\n",
    "import torch\n",
    "from qiskit import *\n",
    "\n",
    "import torch.optim as optim\n",
    "from torch.nn.parameter import Parameter\n",
    "from sklearn.metrics import f1_score\n",
    "import scipy.sparse as sp\n",
    "import numpy as np\n",
    "from torch_geometric.datasets import Planetoid\n",
    "from torch_geometric.utils import to_scipy_sparse_matrix\n",
    "from torch_geometric.nn import GCNConv\n",
    "import sys\n",
    "from givens_roatation import GivensRotations\n",
    "from torch.optim.lr_scheduler import CosineAnnealingLR\n",
    "import torchquantum as tq\n",
    "#import torchquantum.layers\n",
    "#from tq.layers import Op1QAllLayer,Op2QAllLayer\n",
    "from measure import Measure\n",
    "from qlayers import QLayer_block1,QLayer_block2,QLayer_block3\n",
    "import os\n",
    "import matplotlib.pyplot as plt  \n",
    "import seaborn as sns  "
   ]
  },
  {
   "cell_type": "code",
   "execution_count": 401,
   "metadata": {},
   "outputs": [],
   "source": [
    "dataset = Planetoid(root='./data', name='Cora') # 将数据保存在data文件夹下\n",
    "data = dataset[0]"
   ]
  },
  {
   "cell_type": "code",
   "execution_count": 402,
   "metadata": {},
   "outputs": [
    {
     "name": "stdout",
     "output_type": "stream",
     "text": [
      "tensor(6)\n",
      "label =  0 sum = tensor(351)\n",
      "label =  1 sum = tensor(217)\n",
      "label =  2 sum = tensor(418)\n",
      "label =  3 sum = tensor(818)\n",
      "label =  4 sum = tensor(426)\n",
      "label =  5 sum = tensor(298)\n",
      "label =  6 sum = tensor(180)\n"
     ]
    }
   ],
   "source": [
    "# data = data.subgraph(torch.tensor(range(1024)))\n",
    "labels = data.y\n",
    "print(max(labels))\n",
    "for i in range(int(max(labels))+1):\n",
    "    print( 'label = ',i,'sum =',(labels==i).sum())"
   ]
  },
  {
   "cell_type": "code",
   "execution_count": 403,
   "metadata": {},
   "outputs": [],
   "source": [
    "n_node = 512\n",
    "n_train = 256\n",
    "n_feature = 512\n",
    "n_vqc_wires = int(np.log2(n_feature))\n",
    "label0 = 2\n",
    "label1 = 3"
   ]
  },
  {
   "cell_type": "code",
   "execution_count": 404,
   "metadata": {},
   "outputs": [],
   "source": [
    "index34 = (labels==label0)+(labels==label1)\n",
    "data = data.subgraph(index34)\n",
    "labels = data.y"
   ]
  },
  {
   "cell_type": "code",
   "execution_count": 405,
   "metadata": {},
   "outputs": [
    {
     "name": "stdout",
     "output_type": "stream",
     "text": [
      "[   0    1    2 ... 1233 1234 1235]\n"
     ]
    }
   ],
   "source": [
    "shuffle_index = np.array(range(labels.shape[0]))\n",
    "print(shuffle_index)\n",
    "#shuffle(shuffle_index)\n",
    "#print(shuffle_index[0:64])"
   ]
  },
  {
   "cell_type": "code",
   "execution_count": 406,
   "metadata": {},
   "outputs": [],
   "source": [
    "data = data.subgraph(torch.tensor(shuffle_index[0:n_node]))"
   ]
  },
  {
   "cell_type": "code",
   "execution_count": 407,
   "metadata": {},
   "outputs": [
    {
     "name": "stdout",
     "output_type": "stream",
     "text": [
      "features original shape: torch.Size([512, 1433])\n"
     ]
    }
   ],
   "source": [
    "features = data.x\n",
    "features = torch.nn.functional.normalize(features, p=2, dim=0)\n",
    "print('features original shape:',features.shape)"
   ]
  },
  {
   "cell_type": "code",
   "execution_count": 408,
   "metadata": {},
   "outputs": [
    {
     "name": "stdout",
     "output_type": "stream",
     "text": [
      "features sub shape: torch.Size([512, 1247])\n"
     ]
    }
   ],
   "source": [
    "features_sum = (features*features).sum(0)\n",
    "non_zero_feature = features_sum>0.01\n",
    "features = data.x[:,non_zero_feature]\n",
    "print('features sub shape:',features.shape)"
   ]
  },
  {
   "cell_type": "code",
   "execution_count": 409,
   "metadata": {},
   "outputs": [
    {
     "name": "stdout",
     "output_type": "stream",
     "text": [
      "features sub shape: torch.Size([512, 512])\n"
     ]
    }
   ],
   "source": [
    "zeros = torch.zeros(n_node,2048-features.shape[1])\n",
    "features = torch.hstack([features,zeros])\n",
    "features = features.reshape(n_node,n_feature,-1).sum(-1).squeeze()\n",
    "print('features sub shape:',features.shape)\n"
   ]
  },
  {
   "cell_type": "code",
   "execution_count": 410,
   "metadata": {},
   "outputs": [
    {
     "name": "stdout",
     "output_type": "stream",
     "text": [
      "labels: tensor([1, 1, 0, 1, 1, 0, 1, 1, 1, 0, 1, 1, 1, 1, 1, 1, 0, 1, 0, 1, 1, 1, 0, 1,\n",
      "        1, 0, 1, 0, 0, 0, 0, 0, 0, 0, 0, 0, 0, 0, 0, 0, 1, 1, 1, 1, 0, 0, 0, 1,\n",
      "        1, 1, 1, 1, 1, 1, 1, 0, 1, 1, 0, 0, 1, 1, 1, 1, 1, 1, 1, 0, 0, 1, 1, 1,\n",
      "        1, 0, 1, 0, 1, 1, 1, 1, 1, 1, 1, 0, 1, 0, 1, 0, 0, 1, 1, 1, 1, 1, 1, 1,\n",
      "        0, 0, 1, 1, 1, 1, 1, 0, 1, 0, 1, 1, 1, 1, 1, 1, 1, 1, 0, 0, 1, 1, 1, 0,\n",
      "        1, 1, 0, 1, 1, 1, 0, 1, 1, 1, 1, 1, 0, 0, 1, 0, 1, 0, 1, 1, 0, 1, 0, 1,\n",
      "        1, 0, 1, 1, 0, 0, 0, 0, 0, 0, 0, 1, 0, 1, 1, 1, 1, 1, 1, 1, 0, 1, 0, 1,\n",
      "        1, 1, 1, 1, 1, 0, 1, 1, 1, 1, 1, 1, 1, 0, 0, 1, 1, 1, 0, 1, 0, 1, 1, 1,\n",
      "        1, 0, 0, 1, 1, 1, 0, 0, 1, 1, 0, 0, 0, 1, 0, 1, 1, 1, 1, 1, 1, 0, 1, 1,\n",
      "        1, 0, 0, 1, 0, 0, 0, 0, 1, 1, 1, 0, 1, 1, 1, 0, 0, 1, 0, 0, 0, 1, 0, 1,\n",
      "        0, 1, 1, 1, 1, 1, 1, 0, 1, 1, 1, 1, 1, 1, 1, 1, 1, 1, 0, 0, 0, 0, 1, 1,\n",
      "        1, 1, 1, 0, 0, 1, 0, 0, 1, 0, 1, 1, 1, 1, 1, 0, 1, 0, 1, 1, 1, 1, 1, 0,\n",
      "        1, 1, 1, 1, 0, 0, 0, 0, 1, 1, 1, 1, 1, 1, 1, 0, 1, 1, 1, 1, 0, 1, 0, 1,\n",
      "        1, 0, 0, 1, 0, 1, 1, 0, 0, 0, 1, 0, 0, 0, 0, 0, 1, 1, 1, 1, 1, 1, 1, 1,\n",
      "        1, 1, 1, 1, 1, 0, 0, 1, 0, 0, 1, 1, 0, 1, 0, 0, 1, 0, 0, 0, 1, 1, 1, 1,\n",
      "        1, 1, 1, 1, 1, 0, 0, 1, 0, 0, 1, 1, 0, 1, 1, 1, 0, 1, 1, 1, 1, 0, 0, 0,\n",
      "        1, 0, 1, 1, 1, 1, 0, 0, 1, 1, 0, 1, 1, 0, 1, 1, 1, 1, 1, 0, 1, 0, 1, 0,\n",
      "        0, 1, 1, 1, 0, 1, 1, 0, 1, 1, 1, 1, 1, 0, 0, 1, 1, 0, 0, 0, 1, 1, 1, 0,\n",
      "        1, 1, 1, 1, 1, 1, 0, 0, 1, 1, 0, 1, 1, 0, 1, 1, 1, 1, 1, 1, 1, 1, 0, 1,\n",
      "        0, 0, 0, 0, 0, 0, 0, 1, 1, 1, 1, 1, 1, 1, 1, 1, 1, 1, 1, 1, 0, 0, 0, 1,\n",
      "        1, 1, 1, 1, 1, 1, 1, 1, 1, 1, 1, 1, 1, 1, 0, 1, 1, 1, 0, 1, 1, 1, 0, 1,\n",
      "        1, 1, 1, 1, 1, 1, 0, 0])\n"
     ]
    }
   ],
   "source": [
    "labels = data.y#.to(torch.float)\n",
    "index1 = labels==label0\n",
    "index6 = labels==label1\n",
    "labels[index1]=0\n",
    "labels[index6]=1\n",
    "print('labels:',labels)"
   ]
  },
  {
   "cell_type": "code",
   "execution_count": 411,
   "metadata": {},
   "outputs": [
    {
     "name": "stdout",
     "output_type": "stream",
     "text": [
      "torch.Size([512, 512])\n",
      "tensor([1, 1, 0, 1, 1, 0, 1, 1, 1, 0, 1, 1, 1, 1, 1, 1, 0, 1, 0, 1, 1, 1, 0, 1,\n",
      "        1, 0, 1, 0, 0, 0, 0, 0, 0, 0, 0, 0, 0, 0, 0, 0, 1, 1, 1, 1, 0, 0, 0, 1,\n",
      "        1, 1, 1, 1, 1, 1, 1, 0, 1, 1, 0, 0, 1, 1, 1, 1, 1, 1, 1, 0, 0, 1, 1, 1,\n",
      "        1, 0, 1, 0, 1, 1, 1, 1, 1, 1, 1, 0, 1, 0, 1, 0, 0, 1, 1, 1, 1, 1, 1, 1,\n",
      "        0, 0, 1, 1, 1, 1, 1, 0, 1, 0, 1, 1, 1, 1, 1, 1, 1, 1, 0, 0, 1, 1, 1, 0,\n",
      "        1, 1, 0, 1, 1, 1, 0, 1, 1, 1, 1, 1, 0, 0, 1, 0, 1, 0, 1, 1, 0, 1, 0, 1,\n",
      "        1, 0, 1, 1, 0, 0, 0, 0, 0, 0, 0, 1, 0, 1, 1, 1, 1, 1, 1, 1, 0, 1, 0, 1,\n",
      "        1, 1, 1, 1, 1, 0, 1, 1, 1, 1, 1, 1, 1, 0, 0, 1, 1, 1, 0, 1, 0, 1, 1, 1,\n",
      "        1, 0, 0, 1, 1, 1, 0, 0, 1, 1, 0, 0, 0, 1, 0, 1, 1, 1, 1, 1, 1, 0, 1, 1,\n",
      "        1, 0, 0, 1, 0, 0, 0, 0, 1, 1, 1, 0, 1, 1, 1, 0, 0, 1, 0, 0, 0, 1, 0, 1,\n",
      "        0, 1, 1, 1, 1, 1, 1, 0, 1, 1, 1, 1, 1, 1, 1, 1, 1, 1, 0, 0, 0, 0, 1, 1,\n",
      "        1, 1, 1, 0, 0, 1, 0, 0, 1, 0, 1, 1, 1, 1, 1, 0, 1, 0, 1, 1, 1, 1, 1, 0,\n",
      "        1, 1, 1, 1, 0, 0, 0, 0, 1, 1, 1, 1, 1, 1, 1, 0, 1, 1, 1, 1, 0, 1, 0, 1,\n",
      "        1, 0, 0, 1, 0, 1, 1, 0, 0, 0, 1, 0, 0, 0, 0, 0, 1, 1, 1, 1, 1, 1, 1, 1,\n",
      "        1, 1, 1, 1, 1, 0, 0, 1, 0, 0, 1, 1, 0, 1, 0, 0, 1, 0, 0, 0, 1, 1, 1, 1,\n",
      "        1, 1, 1, 1, 1, 0, 0, 1, 0, 0, 1, 1, 0, 1, 1, 1, 0, 1, 1, 1, 1, 0, 0, 0,\n",
      "        1, 0, 1, 1, 1, 1, 0, 0, 1, 1, 0, 1, 1, 0, 1, 1, 1, 1, 1, 0, 1, 0, 1, 0,\n",
      "        0, 1, 1, 1, 0, 1, 1, 0, 1, 1, 1, 1, 1, 0, 0, 1, 1, 0, 0, 0, 1, 1, 1, 0,\n",
      "        1, 1, 1, 1, 1, 1, 0, 0, 1, 1, 0, 1, 1, 0, 1, 1, 1, 1, 1, 1, 1, 1, 0, 1,\n",
      "        0, 0, 0, 0, 0, 0, 0, 1, 1, 1, 1, 1, 1, 1, 1, 1, 1, 1, 1, 1, 0, 0, 0, 1,\n",
      "        1, 1, 1, 1, 1, 1, 1, 1, 1, 1, 1, 1, 1, 1, 0, 1, 1, 1, 0, 1, 1, 1, 0, 1,\n",
      "        1, 1, 1, 1, 1, 1, 0, 0])\n"
     ]
    }
   ],
   "source": [
    "data.x = features\n",
    "print(features.shape)\n",
    "data.y = labels\n",
    "print(data.y)"
   ]
  },
  {
   "cell_type": "code",
   "execution_count": 412,
   "metadata": {},
   "outputs": [
    {
     "name": "stdout",
     "output_type": "stream",
     "text": [
      "tensor(256) tensor(256)\n",
      "torch.Size([512])\n",
      "torch.Size([512])\n"
     ]
    }
   ],
   "source": [
    "train_index = torch.zeros_like(data.train_mask)\n",
    "train_index[0:n_train] = 1\n",
    "train_index = train_index.to(torch.bool)\n",
    "test_index = torch.zeros_like(data.test_mask)\n",
    "test_index[n_train:n_node] =1\n",
    "test_index = test_index.to(torch.bool)\n",
    "print(train_index.sum(),test_index.sum())\n",
    "print(train_index.shape)\n",
    "print(test_index.shape)"
   ]
  },
  {
   "cell_type": "code",
   "execution_count": 413,
   "metadata": {},
   "outputs": [
    {
     "name": "stdout",
     "output_type": "stream",
     "text": [
      "edge.shape: torch.Size([650, 2])\n",
      "label =  0 sum = tensor(175)\n",
      "label =  1 sum = tensor(337)\n",
      "edge.shape: torch.Size([2, 325])\n",
      "2\n",
      "torch.Size([512, 512])\n",
      "torch.Size([512])\n"
     ]
    }
   ],
   "source": [
    "nclass = labels.max().item()+1\n",
    "edges = data.edge_index.T\n",
    "\n",
    "\n",
    "print('edge.shape:',edges.shape)\n",
    "pq_series = []\n",
    "\n",
    "for i in range(edges.shape[0]):\n",
    "    # if edges[i][0].item() in range(n_train,n_node) and edges[i][1].item() in range(n_train,n_node):\n",
    "    #     continue\n",
    "    if edges[i][0].item() < edges[i][1].item():\n",
    "        pq_series.append([edges[i][0].item(), edges[i][1].item()])\n",
    "\n",
    "\n",
    "edge_index = torch.tensor(pq_series).T\n",
    "# data.edge_index = edge_index\n",
    "for i in range(int(max(labels))+1):\n",
    "    print( 'label = ',i,'sum =',(labels==i).sum())\n",
    "\n",
    "print('edge.shape:',edge_index.shape)\n",
    "\n",
    "# sys.exit(0)\n",
    "print(nclass)\n",
    "print(features.shape)\n",
    "print(labels.shape)"
   ]
  },
  {
   "cell_type": "code",
   "execution_count": 414,
   "metadata": {},
   "outputs": [],
   "source": [
    "def normalize_adj(mx):\n",
    "\n",
    "    mx = mx + sp.eye(mx.shape[0])\n",
    "    rowsum = np.array(mx.sum(1))\n",
    "    r_inv = np.power(rowsum, -1/2).flatten()\n",
    "    r_inv[np.isinf(r_inv)] = 0.\n",
    "    r_mat_inv = sp.diags(r_inv)\n",
    "    mx = r_mat_inv.dot(mx)\n",
    "    mx = mx.dot(r_mat_inv)\n",
    "    return mx"
   ]
  },
  {
   "cell_type": "code",
   "execution_count": 415,
   "metadata": {},
   "outputs": [],
   "source": [
    "class QGCN(tq.QuantumModule):\n",
    "    def __init__(self,g,n_nodes,n_dimension,pqs) :\n",
    "        super().__init__()\n",
    "        self.n_qubit =math.ceil(math.log(n_nodes,2))\n",
    "        self.qgcn1 = GivensRotations(self.n_qubit,pqs)\n",
    "        # self.qgcn1.genTrans()\n",
    "        # self.qgcn2 = GivensRotations(self.n_qubit,pqs)\n",
    "        self.linear1 = torch.nn.Linear(int(np.log2(n_feature)),2)\n",
    "        # self.linear2 = torch.nn.Linear(32,2)\n",
    "        self.adj = to_scipy_sparse_matrix(g.edge_index,num_nodes=n_nodes)\n",
    "        self.adj = normalize_adj(self.adj)\n",
    "        self.adj =torch.tensor(self.adj.todense(),dtype= torch.float32)\n",
    "        self.n_wires = n_vqc_wires\n",
    "        self.q_layer1 = QLayer_block3(self.n_wires)\n",
    "        self.q_layer2 = QLayer_block3(self.n_wires)\n",
    "        self.q_layer3 = QLayer_block3(self.n_wires)\n",
    "        self.q_layer4 = QLayer_block3(self.n_wires)\n",
    "        self.q_layer5 = QLayer_block3(self.n_wires)\n",
    "        self.q_layer6 = QLayer_block3(self.n_wires)\n",
    "        self.q_layer7 = QLayer_block3(self.n_wires)\n",
    "        self.q_layer8 = QLayer_block3(self.n_wires)\n",
    "        self.q_layer9 = QLayer_block3(self.n_wires)\n",
    "        self.q_layer10 = QLayer_block3(self.n_wires)\n",
    "        self.q_layer11 = QLayer_block3(self.n_wires)\n",
    "        self.q_layer12 = QLayer_block3(self.n_wires)\n",
    "        self.q_layer13 = QLayer_block3(self.n_wires)\n",
    "\n",
    "        self.encoder = tq.StateEncoder()\n",
    "        self.q_device = tq.QuantumDevice(n_wires=self.n_wires)\n",
    "        self.measure = Measure(obs=tq.PauliZ,wires= range(self.n_wires))\n",
    "        # self.n_dimension = n_dimension\n",
    "    def compare(self):\n",
    "        adj =self.adj\n",
    "        givens = self.qgcn1.get_trans()\n",
    "        return adj, givens\n",
    "\n",
    "    def forward(self,h):\n",
    "        bsz = h.shape[0]\n",
    "        h = self.qgcn1(h)\n",
    "        #h = torch.mm(self.adj,h)\n",
    "        #h = h*h\n",
    "        h = self.encoder(self.q_device,h)\n",
    "        self.q_layer1(self.q_device)\n",
    "        #self.q_layer2(self.q_device)\n",
    "        #self.q_layer3(self.q_device)\n",
    "        #self.q_layer4(self.q_device)\n",
    "        #self.q_layer5(self.q_device)\n",
    "        #self.q_layer6(self.q_device)\n",
    "        #self.q_layer7(self.q_device)\n",
    "        #self.q_layer8(self.q_device)\n",
    "        #self.q_layer9(self.q_device)\n",
    "        #self.q_layer10(self.q_device)\n",
    "        #self.q_layer11(self.q_device)\n",
    "        h = self.measure(self.q_device)\n",
    "        #print(h.size())\n",
    "        #print(h)\n",
    "        h = self.linear1(h)\n",
    "        #h = h.reshape(bsz, 2, -1).sum(-1).squeeze()\n",
    "        return h\n",
    "\n",
    "    def quantum_inference(self,input):\n",
    "        pass\n",
    "    # def show_circuit(self):\n",
    "    #     print(self.qgcn1.circuit)"
   ]
  },
  {
   "cell_type": "code",
   "execution_count": 416,
   "metadata": {},
   "outputs": [],
   "source": [
    "loss_func = torch.nn.CrossEntropyLoss()\n",
    "\n",
    "\n",
    "def train(model, data, train_index, lr=0.01, weight_decay=5e-4, epochs=20):\n",
    "    optimizer = optim.Adam(model.parameters(), lr=lr, weight_decay=weight_decay)\n",
    "    scheduler = CosineAnnealingLR(optimizer, T_max=epochs)\n",
    "    labels = data.y\n",
    "    train_mask = train_index\n",
    "\n",
    "    best_loss_val = 100\n",
    "    \n",
    "\n",
    "    for i in range(epochs):\n",
    "        model.train()\n",
    "        optimizer.zero_grad()\n",
    "        output = model(data.x)\n",
    "        # print(output.shape)\n",
    "        loss = loss_func(output[train_mask], labels[train_mask]) # 用训练集中的节点来计算损失函数\n",
    "        # print(loss)\n",
    "\n",
    "        loss.backward()\n",
    "        optimizer.step()\n",
    "        scheduler.step()\n",
    "        if i % 10 == 0:\n",
    "            # print('parameters:',list(model.parameters())[1].item())\n",
    "            print('Epoch {}, training loss: {}'.format(i, loss.item()))\n",
    "\n",
    "@torch.no_grad()\n",
    "def test(model, data,test_index):\n",
    "    \"\"\"Evaluate GAT performance on test set.\n",
    "\n",
    "    \"\"\"\n",
    "    model.eval()\n",
    "    test_mask = test_index\n",
    "    labels = data.y \n",
    "    output = model(data.x) # 得到模型输出\n",
    "\n",
    "    loss_test = loss_func(output[test_mask], labels[test_mask])\n",
    "    preds = output[test_mask].argmax(1) # 得到预测值\n",
    "   \n",
    "    # print(preds)\n",
    "    # preds = preds.argmax(1)\n",
    "    # preds = preds > 0.5\n",
    "    # print(labels[test_mask])\n",
    "    # labels = labels > 0.5\n",
    "    # print(preds) \n",
    "    # print(labels[test_mask])\n",
    "    # sys.exit(0)\n",
    "    acc_test = preds.eq(labels[test_mask]).cpu().numpy().mean() # 得到准确率\n",
    "    print(\"Test set results:\",\n",
    "          \"loss= {:.4f}\".format(loss_test.item()),\n",
    "          \"accuracy= {:.4f}\".format(acc_test))\n",
    "    return preds, output, acc_test.item()"
   ]
  },
  {
   "cell_type": "code",
   "execution_count": 417,
   "metadata": {},
   "outputs": [
    {
     "name": "stdout",
     "output_type": "stream",
     "text": [
      "num: 325\n",
      "Epoch 0, training loss: 0.7149457335472107\n",
      "Epoch 10, training loss: 0.67525315284729\n",
      "Epoch 20, training loss: 0.6540732383728027\n",
      "Epoch 30, training loss: 0.6444830894470215\n",
      "Epoch 40, training loss: 0.6408944129943848\n"
     ]
    }
   ],
   "source": [
    "model = QGCN(data,n_nodes=n_node,n_dimension=1433,pqs=edge_index.T)\n",
    "\n",
    "\n",
    "device = 'cpu'\n",
    "model = model.to(device)\n",
    "data = data.to(device)\n",
    "train(model, data,train_index=train_index, epochs=50)"
   ]
  },
  {
   "cell_type": "code",
   "execution_count": 418,
   "metadata": {},
   "outputs": [
    {
     "name": "stdout",
     "output_type": "stream",
     "text": [
      "Test set results: loss= 0.6373 accuracy= 0.6641\n"
     ]
    }
   ],
   "source": [
    "preds, output, acc = test(model, data,test_index=test_index)"
   ]
  }
 ],
 "metadata": {
  "kernelspec": {
   "display_name": "qiskit",
   "language": "python",
   "name": "python3"
  },
  "language_info": {
   "codemirror_mode": {
    "name": "ipython",
    "version": 3
   },
   "file_extension": ".py",
   "mimetype": "text/x-python",
   "name": "python",
   "nbconvert_exporter": "python",
   "pygments_lexer": "ipython3",
   "version": "3.10.14"
  }
 },
 "nbformat": 4,
 "nbformat_minor": 2
}
